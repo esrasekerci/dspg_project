{
 "cells": [
  {
   "cell_type": "markdown",
   "id": "cultural-brunswick",
   "metadata": {},
   "source": [
    "# Kütüphanelerin İndirilmesi"
   ]
  },
  {
   "cell_type": "code",
   "execution_count": null,
   "id": "adaptive-complaint",
   "metadata": {},
   "outputs": [],
   "source": [
    "pip install osmnx"
   ]
  },
  {
   "cell_type": "code",
   "execution_count": null,
   "id": "important-armstrong",
   "metadata": {},
   "outputs": [],
   "source": [
    "pip install plotly_express"
   ]
  },
  {
   "cell_type": "code",
   "execution_count": null,
   "id": "presidential-motorcycle",
   "metadata": {},
   "outputs": [],
   "source": [
    "pip install feather-format"
   ]
  },
  {
   "cell_type": "markdown",
   "id": "irish-yugoslavia",
   "metadata": {},
   "source": [
    "# Import"
   ]
  },
  {
   "cell_type": "code",
   "execution_count": null,
   "id": "liquid-impact",
   "metadata": {},
   "outputs": [],
   "source": [
    "import pandas as pd\n",
    "import geopandas as gpd\n",
    "import matplotlib.pyplot as plt\n",
    "import feather\n",
    "import osmnx\n",
    "from shapely.geometry import Point, LineString\n",
    "import plotly_express as px\n",
    "import networkx as nx\n",
    "import re\n",
    "from shapely.geometry import Point\n",
    "import numpy as np\n",
    "osmnx.config(use_cache=True, log_console=True)"
   ]
  },
  {
   "cell_type": "markdown",
   "id": "coral-opening",
   "metadata": {},
   "source": [
    "# Verilerin Okunması"
   ]
  },
  {
   "cell_type": "markdown",
   "id": "urban-injection",
   "metadata": {
    "id": "mNVx2QthfPn0"
   },
   "source": [
    "## Trafik Verisi"
   ]
  },
  {
   "cell_type": "code",
   "execution_count": null,
   "id": "furnished-personality",
   "metadata": {},
   "outputs": [],
   "source": [
    "fuseed_data = pd.read_csv(\"Fuseed_Data_İlçe.csv\")"
   ]
  },
  {
   "cell_type": "code",
   "execution_count": null,
   "id": "novel-terrace",
   "metadata": {
    "id": "hdEwrrS6br4Q"
   },
   "outputs": [],
   "source": [
    "df_1 = pd.read_excel(\"Trafik Verisi-4 İlçe.xlsx\", sheet_name=\"Beyoğlu\")"
   ]
  },
  {
   "cell_type": "markdown",
   "id": "sensitive-portfolio",
   "metadata": {},
   "source": [
    "Birleşik veride sadece Beyoğlu'na denk gelen yolları seçiyoruz."
   ]
  },
  {
   "cell_type": "code",
   "execution_count": null,
   "id": "european-gravity",
   "metadata": {},
   "outputs": [],
   "source": [
    "df_2 = fuseed_data[fuseed_data.vSegID.isin(df_1.vSegID)]"
   ]
  },
  {
   "cell_type": "code",
   "execution_count": null,
   "id": "coupled-opera",
   "metadata": {
    "id": "1gqfVkSNbr4R",
    "outputId": "e3ebd413-a7bb-4922-9587-f2da140806cf"
   },
   "outputs": [],
   "source": [
    "df = df_1.append(df_2)"
   ]
  },
  {
   "cell_type": "code",
   "execution_count": null,
   "id": "sunrise-manufacturer",
   "metadata": {
    "id": "dGC68Nbsbr4S",
    "outputId": "dec0bb50-255a-4b25-cfcd-58a6c034fab4"
   },
   "outputs": [],
   "source": [
    "list(df.columns)"
   ]
  },
  {
   "cell_type": "markdown",
   "id": "portuguese-wesley",
   "metadata": {},
   "source": [
    "Yolların segment idlerini okuyoruz."
   ]
  },
  {
   "cell_type": "code",
   "execution_count": null,
   "id": "legitimate-currency",
   "metadata": {},
   "outputs": [],
   "source": [
    "segments = pd.read_excel(\"Trafik Verisi-4 İlçe.xlsx\", sheet_name=\"Beyoğlu SegmenID\")"
   ]
  },
  {
   "cell_type": "markdown",
   "id": "honey-booth",
   "metadata": {},
   "source": [
    "## Hava Durumu Verisi"
   ]
  },
  {
   "cell_type": "code",
   "execution_count": null,
   "id": "maritime-ordering",
   "metadata": {},
   "outputs": [],
   "source": [
    "weather = pd.read_csv(\"Istanbul Weather Data.csv\")"
   ]
  },
  {
   "cell_type": "code",
   "execution_count": null,
   "id": "exterior-bearing",
   "metadata": {},
   "outputs": [],
   "source": [
    "weather['DateTime'] = pd.to_datetime(weather['DateTime'],format = \"%d.%m.%Y\")"
   ]
  },
  {
   "cell_type": "markdown",
   "id": "corporate-inflation",
   "metadata": {},
   "source": [
    "Hız verilerinin olduğu tarih aralığındaki hava durumu bilgisini seçiyoruz."
   ]
  },
  {
   "cell_type": "code",
   "execution_count": null,
   "id": "integrated-briefing",
   "metadata": {},
   "outputs": [],
   "source": [
    "weather = weather[(weather['DateTime'] >= '2019-01-01') & (weather['DateTime'] <= '2019-06-30')] "
   ]
  },
  {
   "cell_type": "code",
   "execution_count": null,
   "id": "electrical-asian",
   "metadata": {},
   "outputs": [],
   "source": [
    "list(weather.columns)"
   ]
  },
  {
   "cell_type": "markdown",
   "id": "labeled-democracy",
   "metadata": {},
   "source": [
    "Günlük yağmur miktarlarını dictionary olarak çeviriyoruz."
   ]
  },
  {
   "cell_type": "code",
   "execution_count": null,
   "id": "infinite-struggle",
   "metadata": {},
   "outputs": [],
   "source": [
    "rain_dict = dict(zip(weather['DateTime'].dt.date,weather['Rain']))"
   ]
  },
  {
   "cell_type": "markdown",
   "id": "bibliographic-resource",
   "metadata": {},
   "source": [
    "## Tatil Tarihleri"
   ]
  },
  {
   "cell_type": "markdown",
   "id": "alternate-violin",
   "metadata": {},
   "source": [
    "Tatil tarihlerini okuyoruz."
   ]
  },
  {
   "cell_type": "code",
   "execution_count": null,
   "id": "alpine-angel",
   "metadata": {},
   "outputs": [],
   "source": [
    "holidays = pd.read_excel(\"resmi_tatiller.xlsx\")\n",
    "holiday_dates = list(holidays['tarih'])"
   ]
  },
  {
   "cell_type": "markdown",
   "id": "advanced-pillow",
   "metadata": {},
   "source": [
    "## Bakım Verileri"
   ]
  },
  {
   "cell_type": "markdown",
   "id": "social-campbell",
   "metadata": {},
   "source": [
    "Bakım verilerini okuyoruz."
   ]
  },
  {
   "cell_type": "code",
   "execution_count": null,
   "id": "elegant-consultation",
   "metadata": {
    "id": "-smMn-U2f6C6",
    "scrolled": true
   },
   "outputs": [],
   "source": [
    "maintenances_1 = pd.read_csv(\"yol_bakım.csv\")\n",
    "maintenances_1.head()"
   ]
  },
  {
   "cell_type": "code",
   "execution_count": null,
   "id": "israeli-helena",
   "metadata": {
    "scrolled": true
   },
   "outputs": [],
   "source": [
    "maintenances_2 = pd.read_csv(\"yol_bakim_2.csv\")\n",
    "maintenances_2.head()"
   ]
  },
  {
   "cell_type": "code",
   "execution_count": null,
   "id": "phantom-there",
   "metadata": {},
   "outputs": [],
   "source": [
    "maintenances = pd.concat([maintenances_1, maintenances_2], ignore_index=True)"
   ]
  },
  {
   "cell_type": "markdown",
   "id": "secret-insight",
   "metadata": {},
   "source": [
    "Sadece Beyoğlu'nda olan bakımları alıp, bakımları sıralıyoruz."
   ]
  },
  {
   "cell_type": "code",
   "execution_count": null,
   "id": "developmental-commissioner",
   "metadata": {
    "scrolled": true
   },
   "outputs": [],
   "source": [
    "maintenances = maintenances[maintenances[\"ilce\"] == 'BEYOĞLU']\n",
    "maintenances.sort_values(by=['tarih','ilce'],inplace=True)\n",
    "maintenances = maintenances.reset_index().drop('index',axis=1).copy()\n",
    "maintenances"
   ]
  },
  {
   "cell_type": "markdown",
   "id": "strange-shuttle",
   "metadata": {},
   "source": [
    "# Veri Düzenlemesi"
   ]
  },
  {
   "cell_type": "markdown",
   "id": "smaller-queen",
   "metadata": {},
   "source": [
    "## Trafik ve Segment Verisinin Düzenlemesi"
   ]
  },
  {
   "cell_type": "markdown",
   "id": "western-incidence",
   "metadata": {},
   "source": [
    "### Segment Verisinin Düzenlenmesi"
   ]
  },
  {
   "cell_type": "code",
   "execution_count": null,
   "id": "pacific-clause",
   "metadata": {},
   "outputs": [],
   "source": [
    "def listAppend(x):\n",
    "    \"\"\" If a list contains two strings, concatenates them and returns a single one. \"\"\"\n",
    "    if len(x) == 2 :\n",
    "        return x[0] + x[1]\n",
    "    return x[0]"
   ]
  },
  {
   "cell_type": "code",
   "execution_count": null,
   "id": "internal-korean",
   "metadata": {},
   "outputs": [],
   "source": [
    "def meanCoord(x):\n",
    "    \"\"\" Calculate mean of given coordinates for some road. \"\"\"\n",
    "    latSum = 0\n",
    "    lonSum = 0\n",
    "    length = len(x)\n",
    "    for (lat,lon) in x:\n",
    "        latSum += lat \n",
    "        lonSum += lon\n",
    "    return(latSum/length , lonSum/length) # returns mean latitude and longitude"
   ]
  },
  {
   "cell_type": "code",
   "execution_count": null,
   "id": "affecting-buddy",
   "metadata": {},
   "outputs": [],
   "source": [
    "def calculateCoordinates(segments = segments):\n",
    "    \"\"\" Arranges coordinate strings and finds the mean coordinate. \"\"\"\n",
    "    segments = segments.groupby('vsegıd')['shape'].agg(','.join).reset_index() # concatenate shape information\n",
    "    segments['shape'] = segments['shape'].apply(lambda x : x.split(\"LINESTRING ( \"))\n",
    "    segments['shape'] = segments['shape'].apply(lambda x :[elem.strip() for elem in x if elem])\n",
    "    segments['shape'] = segments['shape'].apply(lambda x :[elem.split(\", \") for elem in x ])\n",
    "    segments['shape'] = segments['shape'].apply(lambda x :listAppend(x) )\n",
    "    segments['shape'] = segments['shape'].apply(lambda x : [elem.replace(',', '' ) for elem in x])\n",
    "    segments['shape'] = segments['shape'].apply(lambda x : [(float(elem.split()[1]), float(elem.split()[0])) for elem in x] )\n",
    "    segments['shape'] = segments['shape'].apply(lambda x : meanCoord(x))\n",
    "    return segments"
   ]
  },
  {
   "cell_type": "markdown",
   "id": "unsigned-cornell",
   "metadata": {},
   "source": [
    "Her segment için ortalama bir koordinat çıkarıyoruz."
   ]
  },
  {
   "cell_type": "code",
   "execution_count": null,
   "id": "fatty-meter",
   "metadata": {},
   "outputs": [],
   "source": [
    "coords = calculateCoordinates(segments)"
   ]
  },
  {
   "cell_type": "code",
   "execution_count": null,
   "id": "united-xerox",
   "metadata": {},
   "outputs": [],
   "source": [
    "coords.head()"
   ]
  },
  {
   "cell_type": "markdown",
   "id": "international-season",
   "metadata": {},
   "source": [
    "### Trafik Verisinin Düzenlenmesi"
   ]
  },
  {
   "cell_type": "markdown",
   "id": "violent-treatment",
   "metadata": {},
   "source": [
    "\"0-30 DK\"yi 15'inci , \"30-60 DK\"yi 45'inci dakika olarak işaretliyoruz."
   ]
  },
  {
   "cell_type": "code",
   "execution_count": null,
   "id": "labeled-dictionary",
   "metadata": {
    "id": "mhFCdrNGbr4S"
   },
   "outputs": [],
   "source": [
    "GRPdict = {\"0-30DK\": 15 , \"30-60DK\": 45}\n",
    "df['GRP'] = df['GRP'].apply(lambda x : GRPdict[x])"
   ]
  },
  {
   "cell_type": "markdown",
   "id": "signal-negotiation",
   "metadata": {},
   "source": [
    "Sütun adlarını değiştirdikten sonra datetime sütunu oluşturuyoruz."
   ]
  },
  {
   "cell_type": "code",
   "execution_count": null,
   "id": "wireless-coaching",
   "metadata": {},
   "outputs": [],
   "source": [
    "df.rename(columns={'fusedYear': 'year', 'fusedMonth': 'month', 'fusedday' : 'day', 'fusedHour' : 'hour' , 'GRP' : 'minute'}, inplace=True)\n",
    "df['datetime'] = pd.to_datetime(df[['year','month','day','hour','minute']])"
   ]
  },
  {
   "cell_type": "markdown",
   "id": "joint-memorabilia",
   "metadata": {},
   "source": [
    "Ayları sayıdan ada çeviriyoruz."
   ]
  },
  {
   "cell_type": "code",
   "execution_count": null,
   "id": "beginning-morrison",
   "metadata": {},
   "outputs": [],
   "source": [
    "df['month'] = pd.to_datetime(df['month'], format='%m').dt.month_name().str.slice(stop=3)"
   ]
  },
  {
   "cell_type": "markdown",
   "id": "prepared-apparel",
   "metadata": {},
   "source": [
    "Weekday ve resmi tatil parametrelerini oluşturuyoruz."
   ]
  },
  {
   "cell_type": "code",
   "execution_count": null,
   "id": "italian-poetry",
   "metadata": {
    "scrolled": true
   },
   "outputs": [],
   "source": [
    "df['weekday'] = df['datetime'].dt.day_name()\n",
    "df['holiday'] = df['datetime'].apply(lambda x : 1 if str(x.date()) in holiday_dates else 0)"
   ]
  },
  {
   "cell_type": "markdown",
   "id": "running-armstrong",
   "metadata": {},
   "source": [
    "Resmi tatillere bakıyoruz."
   ]
  },
  {
   "cell_type": "code",
   "execution_count": null,
   "id": "operating-titanium",
   "metadata": {},
   "outputs": [],
   "source": [
    "df[df['holiday']==1].head()"
   ]
  },
  {
   "cell_type": "markdown",
   "id": "suffering-remainder",
   "metadata": {},
   "source": [
    "Covid öncesi/sonrası bilgisini işaretliyoruz."
   ]
  },
  {
   "cell_type": "code",
   "execution_count": null,
   "id": "unusual-secret",
   "metadata": {},
   "outputs": [],
   "source": [
    "covid_start = pd.to_datetime('2019-03-16')\n",
    "df['covid'] = df['datetime'].apply(lambda date: 1 if date >= covid_start else 0)"
   ]
  },
  {
   "cell_type": "markdown",
   "id": "nervous-accountability",
   "metadata": {},
   "source": [
    "Trafik verisine gece/gündüz bilgisini ekliyoruz."
   ]
  },
  {
   "cell_type": "code",
   "execution_count": null,
   "id": "representative-audio",
   "metadata": {},
   "outputs": [],
   "source": [
    "df['gece'] = df['hour'].apply(lambda hour : 'Gündüz' if hour<=23 and hour>=6 else 'Gece')"
   ]
  },
  {
   "cell_type": "markdown",
   "id": "fabulous-conjunction",
   "metadata": {},
   "source": [
    "O günkü yağış miktarını trafik verisine ekliyoruz."
   ]
  },
  {
   "cell_type": "code",
   "execution_count": null,
   "id": "vital-gender",
   "metadata": {},
   "outputs": [],
   "source": [
    "df['rain'] = df['datetime'].apply(lambda x: rain_dict[x.date()])"
   ]
  },
  {
   "cell_type": "code",
   "execution_count": null,
   "id": "recovered-reason",
   "metadata": {},
   "outputs": [],
   "source": [
    "df = df.reset_index().drop('index', axis=1) "
   ]
  },
  {
   "cell_type": "markdown",
   "id": "eastern-playing",
   "metadata": {},
   "source": [
    "## Bakım Verisinin Düzenlenmesi"
   ]
  },
  {
   "cell_type": "markdown",
   "id": "balanced-peripheral",
   "metadata": {},
   "source": [
    "Bakımların ay, gün, gece/gündüz bilgisini hesaplıyoruz."
   ]
  },
  {
   "cell_type": "code",
   "execution_count": null,
   "id": "advanced-profession",
   "metadata": {},
   "outputs": [],
   "source": [
    "maintenances['datetime'] = pd.to_datetime(maintenances['tarih'])\n",
    "maintenances['month'] = maintenances['datetime'].dt.month_name().str.slice(stop=3)\n",
    "maintenances['day'] = maintenances['datetime'].dt.day\n",
    "maintenances['gece'] = maintenances['gece'].apply(lambda x : 'Gece' if x == \"EVET\" else 'Gündüz')"
   ]
  },
  {
   "cell_type": "markdown",
   "id": "human-hunter",
   "metadata": {},
   "source": [
    "İhtiyaç olmayan bilgileri bakımlardan siliyoruz."
   ]
  },
  {
   "cell_type": "code",
   "execution_count": null,
   "id": "welsh-intersection",
   "metadata": {},
   "outputs": [],
   "source": [
    "maintenances.drop(['tarih','lat','lon','id','ilce','yol_adi'],axis = 1,inplace=True)\n",
    "maintenances.head()"
   ]
  },
  {
   "cell_type": "markdown",
   "id": "partial-organizer",
   "metadata": {
    "id": "_VhAmTDobr4U"
   },
   "source": [
    "# Veri İncelemesi"
   ]
  },
  {
   "cell_type": "markdown",
   "id": "subtle-serial",
   "metadata": {
    "id": "FvCLtyxObr4T"
   },
   "source": [
    "## Hızların İncelenmesi"
   ]
  },
  {
   "cell_type": "code",
   "execution_count": null,
   "id": "excess-princess",
   "metadata": {
    "id": "_26kXPrjgIy9"
   },
   "outputs": [],
   "source": [
    "plt.style.use('ggplot')"
   ]
  },
  {
   "cell_type": "markdown",
   "id": "pending-newark",
   "metadata": {},
   "source": [
    "Yönlere göre hızları inceliyoruz."
   ]
  },
  {
   "cell_type": "code",
   "execution_count": null,
   "id": "tutorial-waters",
   "metadata": {
    "id": "vkw944mGbr4U",
    "outputId": "75daa45c-e640-428b-bc1c-03307f6d2551"
   },
   "outputs": [],
   "source": [
    "group_dir = df.groupby('vSegDir' ,axis = 0)\n",
    "group_dir['avgspeed'].describe()"
   ]
  },
  {
   "cell_type": "markdown",
   "id": "animal-delaware",
   "metadata": {},
   "source": [
    "Segment idlere göre hızları inceliyoruz."
   ]
  },
  {
   "cell_type": "code",
   "execution_count": null,
   "id": "restricted-mirror",
   "metadata": {
    "colab": {
     "base_uri": "https://localhost:8080/",
     "height": 178
    },
    "id": "R61Mkdq0br4U",
    "outputId": "554f2d42-8f22-4f87-ea91-908e12b4415d"
   },
   "outputs": [],
   "source": [
    "group_id = df.groupby('vSegID' ,axis = 0)\n",
    "group_id['avgspeed'].describe()"
   ]
  },
  {
   "cell_type": "markdown",
   "id": "metropolitan-violence",
   "metadata": {},
   "source": [
    "Ortalama hızlar için histogram çizdiriyoruz."
   ]
  },
  {
   "cell_type": "code",
   "execution_count": null,
   "id": "heated-underground",
   "metadata": {
    "id": "iPwA379Gbr4V",
    "outputId": "307350eb-f905-40c0-d9a8-2ec7262cd37d",
    "scrolled": true
   },
   "outputs": [],
   "source": [
    "plt.hist(df['avgspeed'], bins=50)\n",
    "plt.xlabel(\"Average speed\")\n",
    "plt.ylabel(\"Frequency\")\n",
    "plt.title(\"Frequencies Of Speed Values\")\n",
    "plt.show()"
   ]
  },
  {
   "cell_type": "markdown",
   "id": "continent-canal",
   "metadata": {},
   "source": [
    "Ortalama hızlar için boxplot çizdiriyoruz."
   ]
  },
  {
   "cell_type": "code",
   "execution_count": null,
   "id": "expressed-hopkins",
   "metadata": {
    "id": "iD_UgJgabr4V",
    "outputId": "706259d0-819f-4d34-f633-088a2af701ff"
   },
   "outputs": [],
   "source": [
    "plt.boxplot(df['avgspeed'])\n",
    "plt.title('Boxplot of speed values')\n",
    "plt.ylabel('Speed')\n",
    "plt.show()"
   ]
  },
  {
   "cell_type": "markdown",
   "id": "minute-legislation",
   "metadata": {
    "id": "xwEL53uSdZe4"
   },
   "source": [
    "Saatlik ortalama hızları çizdiriyoruz."
   ]
  },
  {
   "cell_type": "code",
   "execution_count": null,
   "id": "falling-carpet",
   "metadata": {
    "id": "jtpwqGmlbr4V",
    "outputId": "7653f99d-0256-4974-d92a-ed4998d9e9d9"
   },
   "outputs": [],
   "source": [
    "hour_means = df.groupby(df['datetime'].dt.hour).mean()\n",
    "hour_means['indices'] = hour_means.index\n",
    "plt.bar(hour_means['indices'],hour_means['avgspeed'])\n",
    "plt.xlabel(\"Hour\")\n",
    "plt.ylabel(\"Average speed\")\n",
    "plt.title(\"Average Speed by Hour\")\n",
    "plt.show()"
   ]
  },
  {
   "cell_type": "markdown",
   "id": "composite-russell",
   "metadata": {
    "id": "dqxwC863dwf9"
   },
   "source": [
    "Haftanın günlerine göre ortalama hızları çizdiriyoruz."
   ]
  },
  {
   "cell_type": "code",
   "execution_count": null,
   "id": "consistent-throw",
   "metadata": {
    "id": "o3OTq1J0br4W",
    "outputId": "8960a6fa-44d6-4470-c2d3-c4d94c5e5855"
   },
   "outputs": [],
   "source": [
    "days = ('Monday','Tuesday','Wednesday','Thursday','Friday','Saturday', 'Sunday')\n",
    "day_means = df.groupby(df['datetime'].dt.day_name()).mean().reindex(days[::-1])\n",
    "day_means['indices'] = day_means.index\n",
    "plt.barh(day_means['indices'],day_means['avgspeed'])\n",
    "plt.xlabel(\"Average speed\")\n",
    "plt.ylabel(\"Weekday\")\n",
    "plt.title(\"Average Speed by Weekdays\")\n",
    "plt.show()"
   ]
  },
  {
   "cell_type": "markdown",
   "id": "expanded-compromise",
   "metadata": {},
   "source": [
    "Aylara göre ortalama hızları çizdiriyoruz."
   ]
  },
  {
   "cell_type": "code",
   "execution_count": null,
   "id": "equipped-anaheim",
   "metadata": {},
   "outputs": [],
   "source": [
    "months = (\"January\",\"February\",\"March\",\"April\",\"May\",\"June\",\"July\",\"August\",\"September\",\"October\",\"November\",\"December\")\n",
    "month_means = df.groupby(df['datetime'].dt.month_name()).mean().reindex(months[::-1])\n",
    "month_means['indices'] = month_means.index\n",
    "plt.barh(month_means['indices'],month_means['avgspeed'])\n",
    "plt.xlabel(\"Average speed\")\n",
    "plt.ylabel(\"Month\")\n",
    "plt.show()"
   ]
  },
  {
   "cell_type": "markdown",
   "id": "quantitative-priority",
   "metadata": {
    "id": "D7meS5WUg-tA"
   },
   "source": [
    "## Bakımların İncelenmesi"
   ]
  },
  {
   "cell_type": "code",
   "execution_count": null,
   "id": "anticipated-harris",
   "metadata": {},
   "outputs": [],
   "source": [
    "maintenances['isin_cinsi'].value_counts().plot(kind = 'pie',ylabel = \"\") "
   ]
  },
  {
   "cell_type": "markdown",
   "id": "cardiovascular-vegetarian",
   "metadata": {},
   "source": [
    "## Hava Durumlarının İncelenmesi"
   ]
  },
  {
   "cell_type": "code",
   "execution_count": null,
   "id": "liquid-landscape",
   "metadata": {},
   "outputs": [],
   "source": [
    "weather['Condition'].value_counts().plot(kind = \"barh\")"
   ]
  },
  {
   "cell_type": "code",
   "execution_count": null,
   "id": "scientific-specific",
   "metadata": {},
   "outputs": [],
   "source": [
    "weather.head()"
   ]
  },
  {
   "cell_type": "markdown",
   "id": "cognitive-jefferson",
   "metadata": {},
   "source": [
    "# Haritanın Oluşturulması"
   ]
  },
  {
   "cell_type": "markdown",
   "id": "suited-thousand",
   "metadata": {},
   "source": [
    "Beyoğlu için harita indiriyoruz."
   ]
  },
  {
   "cell_type": "code",
   "execution_count": null,
   "id": "italic-doctor",
   "metadata": {},
   "outputs": [],
   "source": [
    "G = osmnx.graph_from_address(\"Beyoğlu, İstanbul\", 5000, network_type= \"drive\") # download map for Beyoğlu"
   ]
  },
  {
   "cell_type": "code",
   "execution_count": null,
   "id": "twenty-stock",
   "metadata": {},
   "outputs": [],
   "source": [
    "remain_edges = set() # set of remaining edges.\n",
    "remain_nodes = set() # set of remaining nodes.\n",
    "segment_dict = {} # dictionary that stores corresponding edge for each segment id"
   ]
  },
  {
   "cell_type": "code",
   "execution_count": null,
   "id": "tribal-buying",
   "metadata": {},
   "outputs": [],
   "source": [
    "def match_edge(coordinate, seg_id):\n",
    "    edge = osmnx.distance.get_nearest_edge(G,coordinate) # find edge nearest to the coordinate\n",
    "    remain_edges.add(edge) \n",
    "    segment_dict[seg_id] = str(edge) "
   ]
  },
  {
   "cell_type": "code",
   "execution_count": null,
   "id": "square-danger",
   "metadata": {},
   "outputs": [],
   "source": [
    "def graphSubset(G, remain_edges):\n",
    "    \"\"\" Removes unmatched edges and nodes from the graph\"\"\"\n",
    "    all_edges = set() # set of all edges in downloaded graph\n",
    "    for edge in G.edges:\n",
    "        all_edges.add(edge)\n",
    "\n",
    "    all_nodes = set() # set of all nodes in downloaded graph\n",
    "    for node in G.nodes:\n",
    "        all_nodes.add(node)\n",
    "    \n",
    "    for edge in remain_edges:\n",
    "        # nodes that are related to remaining edges must remain\n",
    "        remain_nodes.add(edge[0]) \n",
    "        remain_nodes.add(edge[1])\n",
    "        \n",
    "    delete_nodes = all_nodes - remain_nodes # nodes to be deleted\n",
    "    delete_edges = all_edges - remain_edges # edges to be deleted\n",
    "    G.remove_edges_from(list(delete_edges)) # delete unnecessary edges\n",
    "    G.remove_nodes_from(list(delete_nodes)) # delete unnecessary nodes"
   ]
  },
  {
   "cell_type": "markdown",
   "id": "adverse-paris",
   "metadata": {},
   "source": [
    "Her segmenti haritadaki bir edge ile eşleştiriyoruz."
   ]
  },
  {
   "cell_type": "code",
   "execution_count": null,
   "id": "whole-civilization",
   "metadata": {
    "scrolled": false
   },
   "outputs": [],
   "source": [
    "coords.apply(lambda coord: match_edge(coord['shape'],coord['vsegıd']), axis = 1) \n",
    "df['edge'] = df['vSegID'].apply(lambda seg : segment_dict[seg])"
   ]
  },
  {
   "cell_type": "markdown",
   "id": "unsigned-lobby",
   "metadata": {},
   "source": [
    "Eşleşmeyen yolları haritadan siliyoruz."
   ]
  },
  {
   "cell_type": "code",
   "execution_count": null,
   "id": "becoming-length",
   "metadata": {},
   "outputs": [],
   "source": [
    "graphSubset(G, remain_edges)"
   ]
  },
  {
   "cell_type": "code",
   "execution_count": null,
   "id": "close-pursuit",
   "metadata": {},
   "outputs": [],
   "source": [
    "def coord_extract(url):\n",
    "    \"\"\" Extracts latitude and longitude from each maintenance url. \"\"\"\n",
    "    lat = float(re.search(r'(?<=lat=)[\\d.]*' ,url)[0])\n",
    "    lon = float(re.search(r'(?<=lon=)[\\d.]*' ,url)[0])\n",
    "    return (lat,lon)"
   ]
  },
  {
   "cell_type": "markdown",
   "id": "postal-semester",
   "metadata": {},
   "source": [
    "Her bir bakımın koordinat bilgisi hesaplandıktan sonra, haritadaki en yakın yolla eşleştiriliyor."
   ]
  },
  {
   "cell_type": "code",
   "execution_count": null,
   "id": "passing-party",
   "metadata": {},
   "outputs": [],
   "source": [
    "maintenances['coord'] = maintenances['harita'].apply(lambda url : coord_extract(url))\n",
    "maintenances['edges'] = maintenances['coord'].apply(lambda x : osmnx.distance.get_nearest_edge(G,x)) # her koordinata karşılık gelen edgeleri bir listede topla. \n",
    "maintenances.drop('harita', axis=1, inplace=True)"
   ]
  },
  {
   "cell_type": "code",
   "execution_count": null,
   "id": "pediatric-farming",
   "metadata": {},
   "outputs": [],
   "source": [
    "maintenance_edges = set()\n",
    "maintenance_edges.update(maintenances['edges'])"
   ]
  },
  {
   "cell_type": "markdown",
   "id": "comparative-share",
   "metadata": {},
   "source": [
    "# Feature Geliştirme"
   ]
  },
  {
   "cell_type": "code",
   "execution_count": null,
   "id": "suspected-vegetable",
   "metadata": {},
   "outputs": [],
   "source": [
    "df.drop('vSegID', inplace = True, axis = 1)\n",
    "df.drop('vSegDir', inplace = True, axis = 1)\n",
    "df.drop('minute', inplace = True, axis = 1)\n",
    "df.drop('year', inplace = True, axis = 1)"
   ]
  },
  {
   "cell_type": "markdown",
   "id": "passive-victim",
   "metadata": {},
   "source": [
    "Haritadaki edgeleri stringe çeviriyoruz."
   ]
  },
  {
   "cell_type": "code",
   "execution_count": null,
   "id": "distinguished-incidence",
   "metadata": {},
   "outputs": [],
   "source": [
    "maintenances['edges'] = maintenances['edges'].apply(lambda x : str(x))"
   ]
  },
  {
   "cell_type": "markdown",
   "id": "enhanced-foundation",
   "metadata": {},
   "source": [
    "Gün, ay, yol ve gece-gündüz bilgisini birleştirerek bakımı tanımlayan bir parametre oluşturuyoruz."
   ]
  },
  {
   "cell_type": "code",
   "execution_count": null,
   "id": "appreciated-debut",
   "metadata": {},
   "outputs": [],
   "source": [
    "cols = ['day','month','edges','gece']\n",
    "maintenances['combined'] = maintenances[cols].apply(lambda row: '_'.join(row.values.astype(str)), axis = 1)"
   ]
  },
  {
   "cell_type": "code",
   "execution_count": null,
   "id": "welsh-archive",
   "metadata": {},
   "outputs": [],
   "source": [
    "maintenances.head()"
   ]
  },
  {
   "cell_type": "markdown",
   "id": "instant-innocent",
   "metadata": {},
   "source": [
    "Trafik verileri için de bakımlarınkine benzeyen tanımlayıcı bir parametre oluşturuyoruz."
   ]
  },
  {
   "cell_type": "code",
   "execution_count": null,
   "id": "macro-notification",
   "metadata": {},
   "outputs": [],
   "source": [
    "cols = ['day','month','edge','gece']\n",
    "df['combined'] = df[cols].apply(lambda row: '_'.join((str(x) for x in row)),axis = 1)"
   ]
  },
  {
   "cell_type": "code",
   "execution_count": null,
   "id": "extensive-smith",
   "metadata": {
    "scrolled": true
   },
   "outputs": [],
   "source": [
    "df.head()"
   ]
  },
  {
   "cell_type": "code",
   "execution_count": null,
   "id": "undefined-adolescent",
   "metadata": {},
   "outputs": [],
   "source": [
    "maintenance_dict = dict(zip(maintenances.combined, maintenances.isin_cinsi)) "
   ]
  },
  {
   "cell_type": "code",
   "execution_count": null,
   "id": "julian-expansion",
   "metadata": {},
   "outputs": [],
   "source": [
    "df['maintenance'] = df['combined'].apply(lambda x : maintenance_dict[x] if x in maintenance_dict else \"no_maintenance\")"
   ]
  },
  {
   "cell_type": "code",
   "execution_count": null,
   "id": "optional-ordinary",
   "metadata": {},
   "outputs": [],
   "source": [
    "ave = df.groupby(['month','day','hour','edge'])['avgspeed'].mean().reset_index()\n",
    "ave"
   ]
  },
  {
   "cell_type": "markdown",
   "id": "precious-donna",
   "metadata": {},
   "source": [
    "# Harita Görselleştirme"
   ]
  },
  {
   "cell_type": "markdown",
   "id": "close-title",
   "metadata": {},
   "source": [
    "## Bakımlar"
   ]
  },
  {
   "cell_type": "markdown",
   "id": "stretch-humanitarian",
   "metadata": {},
   "source": [
    "Bakım olan yolları işaretliyoruz."
   ]
  },
  {
   "cell_type": "code",
   "execution_count": null,
   "id": "express-transition",
   "metadata": {},
   "outputs": [],
   "source": [
    "def draw_maintenances(maintenance_edges, Graph=G):\n",
    "    \"\"\" Paints roads with maintenances as red. \"\"\"\n",
    "    color = ['r' if edge in maintenance_edges else 'w' for edge in G.edges(keys=True)]\n",
    "    fig, ax = osmnx.plot_graph(G,edge_color= color)\n",
    "    \n",
    "draw_maintenances(maintenance_edges)"
   ]
  },
  {
   "cell_type": "markdown",
   "id": "related-offering",
   "metadata": {},
   "source": [
    "## Hız"
   ]
  },
  {
   "cell_type": "markdown",
   "id": "structural-configuration",
   "metadata": {},
   "source": [
    "Düşük ve yüksek hız olan yolları işaretliyoruz."
   ]
  },
  {
   "cell_type": "code",
   "execution_count": null,
   "id": "shared-precipitation",
   "metadata": {},
   "outputs": [],
   "source": [
    "def speed_tocolor(speed, threshold = 30):\n",
    "    \"\"\" Returns red for low speed values and green for the others. \"\"\"\n",
    "    if speed > threshold:\n",
    "        return 'g'\n",
    "    else:\n",
    "        return 'r'"
   ]
  },
  {
   "cell_type": "code",
   "execution_count": null,
   "id": "stretch-average",
   "metadata": {},
   "outputs": [],
   "source": [
    "def color_map(month, day, hour, graph=G):\n",
    "    \"\"\" Creates a color map for a given time. \"\"\"\n",
    "    hour_speed = df.groupby(['month','day','hour']) \n",
    "    draw_group = hour_speed.get_group((month,day,hour)) # find values at a specific time.\n",
    "    speed_dict = dict(zip(draw_group.edge,draw_group.avgspeed)) # create a dictionary for speed values\n",
    "    color = [speed_tocolor(speed_dict[str(edge)]) if str(edge) in speed_dict else 'g' for edge in G.edges]\n",
    "    fig, ax = osmnx.plot_graph(G,edge_color= color)"
   ]
  },
  {
   "cell_type": "markdown",
   "id": "unique-concentrate",
   "metadata": {},
   "source": [
    "Örnek olarak 19 Mart saat 18'deki hızları çizdiriyoruz."
   ]
  },
  {
   "cell_type": "code",
   "execution_count": null,
   "id": "union-mount",
   "metadata": {},
   "outputs": [],
   "source": [
    "color_map('Mar',19,18)"
   ]
  },
  {
   "cell_type": "markdown",
   "id": "stuffed-avenue",
   "metadata": {},
   "source": [
    "# Model İçin Hazırlık"
   ]
  },
  {
   "cell_type": "markdown",
   "id": "cultural-homework",
   "metadata": {},
   "source": [
    "Modele eğitilebilecek haldeki dataframe için df_model değişkenini oluşturuyoruz."
   ]
  },
  {
   "cell_type": "code",
   "execution_count": null,
   "id": "cutting-gothic",
   "metadata": {},
   "outputs": [],
   "source": [
    "df_model = df.copy()"
   ]
  },
  {
   "cell_type": "markdown",
   "id": "enabling-moral",
   "metadata": {},
   "source": [
    "Modele girmesi gerekmeyen parametreleri siliyoruz."
   ]
  },
  {
   "cell_type": "code",
   "execution_count": null,
   "id": "outside-arizona",
   "metadata": {},
   "outputs": [],
   "source": [
    "df_model = df_model.drop(['day','datetime','combined','gece'], axis=1)"
   ]
  },
  {
   "cell_type": "markdown",
   "id": "automatic-polls",
   "metadata": {},
   "source": [
    "0 olarak ölçülen ve 80'den yüksek çıkan hızları çıkarıyoruz."
   ]
  },
  {
   "cell_type": "code",
   "execution_count": null,
   "id": "superb-bangladesh",
   "metadata": {},
   "outputs": [],
   "source": [
    "df_model = df_model[(df_model.avgspeed > 0) & (df_model.avgspeed < 80)].reset_index().drop('index',axis = 1)"
   ]
  },
  {
   "cell_type": "code",
   "execution_count": null,
   "id": "australian-ozone",
   "metadata": {},
   "outputs": [],
   "source": [
    "df_model = pd.concat([df_model,pd.get_dummies(df_model['hour'])],axis=1).drop(['hour'],axis=1)\n",
    "df_model = pd.concat([df_model,pd.get_dummies(df_model['weekday'])],axis=1).drop(['weekday'],axis=1)\n",
    "df_model = pd.concat([df_model,pd.get_dummies(df_model['edge'])],axis=1).drop(['edge'],axis=1)\n",
    "df_model = pd.concat([df_model,pd.get_dummies(df_model['maintenance'])],axis=1).drop(['maintenance'],axis=1)\n",
    "df_model = pd.concat([df_model,pd.get_dummies(df_model['month'])],axis=1).drop(['month'],axis=1)"
   ]
  },
  {
   "cell_type": "code",
   "execution_count": null,
   "id": "dietary-eight",
   "metadata": {},
   "outputs": [],
   "source": [
    "df_model.head()"
   ]
  },
  {
   "cell_type": "code",
   "execution_count": null,
   "id": "therapeutic-adelaide",
   "metadata": {},
   "outputs": [],
   "source": [
    "df_model.drop(\"no_maintenance\", axis = 1, inplace = True)"
   ]
  },
  {
   "cell_type": "code",
   "execution_count": null,
   "id": "designed-execution",
   "metadata": {},
   "outputs": [],
   "source": [
    "df_model.columns = df_model.columns.astype(str)\n",
    "df_model.to_feather(\"beyoğluReady.feather\") "
   ]
  },
  {
   "cell_type": "code",
   "execution_count": null,
   "id": "equivalent-injury",
   "metadata": {},
   "outputs": [],
   "source": [
    "y = df_model['avgspeed'].values\n",
    "X = df_model.drop(['avgspeed'], axis=1)"
   ]
  },
  {
   "cell_type": "code",
   "execution_count": null,
   "id": "retained-police",
   "metadata": {},
   "outputs": [],
   "source": [
    "X.shape"
   ]
  },
  {
   "cell_type": "markdown",
   "id": "ethical-forestry",
   "metadata": {},
   "source": [
    "# Modellerin Eğitilmesi"
   ]
  },
  {
   "cell_type": "code",
   "execution_count": null,
   "id": "electronic-semiconductor",
   "metadata": {},
   "outputs": [],
   "source": [
    "import sklearn\n",
    "from sklearn.model_selection import train_test_split\n",
    "from sklearn.tree import DecisionTreeRegressor\n",
    "from sklearn.metrics import mean_absolute_error\n",
    "from sklearn.metrics import r2_score\n",
    "from sklearn.linear_model import LinearRegression, Ridge\n",
    "from sklearn.ensemble import RandomForestRegressor"
   ]
  },
  {
   "cell_type": "code",
   "execution_count": null,
   "id": "concerned-communication",
   "metadata": {},
   "outputs": [],
   "source": [
    "X_train, X_test, y_train, y_test = train_test_split(X, y, test_size=0.33, random_state=45)"
   ]
  },
  {
   "cell_type": "markdown",
   "id": "artificial-london",
   "metadata": {},
   "source": [
    "## Decision Tree Regressor"
   ]
  },
  {
   "cell_type": "code",
   "execution_count": null,
   "id": "little-viewer",
   "metadata": {},
   "outputs": [],
   "source": [
    "dtRegressor = DecisionTreeRegressor(max_depth= 110, min_samples_leaf = 25) "
   ]
  },
  {
   "cell_type": "code",
   "execution_count": null,
   "id": "missing-bruce",
   "metadata": {},
   "outputs": [],
   "source": [
    "dtRegressor.fit(X_train,y_train)"
   ]
  },
  {
   "cell_type": "code",
   "execution_count": null,
   "id": "thrown-server",
   "metadata": {},
   "outputs": [],
   "source": [
    "y_pred_dt = dtRegressor.predict(X_test)"
   ]
  },
  {
   "cell_type": "code",
   "execution_count": null,
   "id": "inclusive-practitioner",
   "metadata": {},
   "outputs": [],
   "source": [
    "mean_absolute_error(y_test,y_pred_dt)"
   ]
  },
  {
   "cell_type": "code",
   "execution_count": null,
   "id": "reliable-organic",
   "metadata": {},
   "outputs": [],
   "source": [
    "r2_score(y_test,y_pred_dt)"
   ]
  },
  {
   "cell_type": "markdown",
   "id": "documented-beatles",
   "metadata": {},
   "source": [
    "Residual plotu belli bir aralık için çizdiriyoruz."
   ]
  },
  {
   "cell_type": "code",
   "execution_count": null,
   "id": "varying-chester",
   "metadata": {},
   "outputs": [],
   "source": [
    "residuals_dt = y_test - y_pred_dt\n",
    "plt.scatter(y_pred_dt[9000:9900],residuals_dt[9000:9900])\n",
    "plt.hlines(y=0,xmin = 0, xmax=80, color =\"red\", linestyles = \"dashed\")\n",
    "plt.ylabel(\"Residual\")\n",
    "plt.xlabel(\"Prediction\")\n",
    "plt.title(\"Residual Plot\")\n",
    "plt.show()"
   ]
  },
  {
   "cell_type": "markdown",
   "id": "killing-optimum",
   "metadata": {},
   "source": [
    "Feature importance'ı 0 olan parametreleri inceliyoruz."
   ]
  },
  {
   "cell_type": "code",
   "execution_count": null,
   "id": "pharmaceutical-sussex",
   "metadata": {},
   "outputs": [],
   "source": [
    "zeros = np.where(dtRegressor.feature_importances_== 0)\n",
    "X.columns.values[zeros]"
   ]
  },
  {
   "cell_type": "markdown",
   "id": "mental-defeat",
   "metadata": {},
   "source": [
    "## Random Forest Regressor"
   ]
  },
  {
   "cell_type": "code",
   "execution_count": null,
   "id": "informational-ultimate",
   "metadata": {},
   "outputs": [],
   "source": [
    "rfRegressor = RandomForestRegressor(max_depth=60, min_samples_leaf = 30, n_estimators = 10, max_samples = 0.5, bootstrap = True)"
   ]
  },
  {
   "cell_type": "code",
   "execution_count": null,
   "id": "express-daniel",
   "metadata": {},
   "outputs": [],
   "source": [
    "rfRegressor.fit(X_train,y_train)"
   ]
  },
  {
   "cell_type": "code",
   "execution_count": null,
   "id": "welcome-destruction",
   "metadata": {},
   "outputs": [],
   "source": [
    "y_pred_rf = rfRegressor.predict(X_test)"
   ]
  },
  {
   "cell_type": "code",
   "execution_count": null,
   "id": "essential-olympus",
   "metadata": {},
   "outputs": [],
   "source": [
    "mean_absolute_error(y_test,y_pred_rf)"
   ]
  },
  {
   "cell_type": "code",
   "execution_count": null,
   "id": "medium-universe",
   "metadata": {},
   "outputs": [],
   "source": [
    "r2_score(y_test,y_pred_rf)"
   ]
  },
  {
   "cell_type": "markdown",
   "id": "continuous-glass",
   "metadata": {},
   "source": [
    "Residual plotu belli bir aralık için çizdiriyoruz."
   ]
  },
  {
   "cell_type": "code",
   "execution_count": null,
   "id": "institutional-sword",
   "metadata": {},
   "outputs": [],
   "source": [
    "residuals_rf = y_test - y_pred_rf\n",
    "plt.scatter(y_pred_rf[10000:10900], residuals_rf[10000:10900])\n",
    "plt.hlines(y=0,xmin = 0, xmax=80, color =\"red\", linestyles = \"dashed\")\n",
    "plt.ylabel(\"Residual\")\n",
    "plt.xlabel(\"Prediction\")\n",
    "plt.title(\"Residual Plot\")\n",
    "plt.show()"
   ]
  },
  {
   "cell_type": "markdown",
   "id": "statistical-catholic",
   "metadata": {},
   "source": [
    "## Linear Regression"
   ]
  },
  {
   "cell_type": "code",
   "execution_count": null,
   "id": "automatic-imaging",
   "metadata": {},
   "outputs": [],
   "source": [
    "lRegressor = LinearRegression()"
   ]
  },
  {
   "cell_type": "code",
   "execution_count": null,
   "id": "isolated-flavor",
   "metadata": {},
   "outputs": [],
   "source": [
    "lRegressor.fit(X_train,y_train)"
   ]
  },
  {
   "cell_type": "code",
   "execution_count": null,
   "id": "gentle-longer",
   "metadata": {},
   "outputs": [],
   "source": [
    "y_pred_l = lRegressor.predict(X_test)"
   ]
  },
  {
   "cell_type": "code",
   "execution_count": null,
   "id": "prerequisite-saver",
   "metadata": {},
   "outputs": [],
   "source": [
    "mean_absolute_error(y_test,y_pred_l)"
   ]
  },
  {
   "cell_type": "code",
   "execution_count": null,
   "id": "opening-warrant",
   "metadata": {},
   "outputs": [],
   "source": [
    "r2_score(y_test,y_pred_l)"
   ]
  },
  {
   "cell_type": "markdown",
   "id": "painful-mapping",
   "metadata": {},
   "source": [
    "Residual plotu belli bir aralık için çizdiriyoruz."
   ]
  },
  {
   "cell_type": "code",
   "execution_count": null,
   "id": "intellectual-basic",
   "metadata": {},
   "outputs": [],
   "source": [
    "residuals_l = y_test - y_pred_l\n",
    "plt.scatter(y_pred_l[9000:9900], residuals_l[9000:9900])\n",
    "plt.hlines(y=0,xmin = 0, xmax=80, color =\"red\", linestyles = \"dashed\")\n",
    "plt.ylabel(\"Residual\")\n",
    "plt.xlabel(\"Prediction\")\n",
    "plt.title(\"Residual Plot\")\n",
    "plt.show()"
   ]
  },
  {
   "cell_type": "markdown",
   "id": "environmental-maximum",
   "metadata": {},
   "source": [
    "## Ridge Regression"
   ]
  },
  {
   "cell_type": "markdown",
   "id": "confused-yorkshire",
   "metadata": {},
   "source": [
    "Alpha = 0.5 değeriyle Ridge Regression modeli eğitiyoruz."
   ]
  },
  {
   "cell_type": "code",
   "execution_count": null,
   "id": "imperial-eclipse",
   "metadata": {},
   "outputs": [],
   "source": [
    "ridgeModel = Ridge(alpha = 0.5) "
   ]
  },
  {
   "cell_type": "code",
   "execution_count": null,
   "id": "portable-herald",
   "metadata": {},
   "outputs": [],
   "source": [
    "ridgeModel.fit(X_train, y_train) "
   ]
  },
  {
   "cell_type": "code",
   "execution_count": null,
   "id": "configured-colorado",
   "metadata": {},
   "outputs": [],
   "source": [
    "y_pred_r = ridgeModel.predict(X_test)"
   ]
  },
  {
   "cell_type": "code",
   "execution_count": null,
   "id": "republican-shelter",
   "metadata": {
    "scrolled": true
   },
   "outputs": [],
   "source": [
    "mean_absolute_error(y_test,y_pred_r)"
   ]
  },
  {
   "cell_type": "code",
   "execution_count": null,
   "id": "handy-median",
   "metadata": {},
   "outputs": [],
   "source": [
    "r2_score(y_test,y_pred_r)"
   ]
  },
  {
   "cell_type": "markdown",
   "id": "unlimited-montana",
   "metadata": {},
   "source": [
    "Residual plotu belli bir aralık için çizdiriyoruz."
   ]
  },
  {
   "cell_type": "code",
   "execution_count": null,
   "id": "flexible-parent",
   "metadata": {
    "scrolled": true
   },
   "outputs": [],
   "source": [
    "residuals_r = y_test - y_pred_r\n",
    "plt.scatter(y_pred_r[9000:9900],residuals_r[9000:9900])\n",
    "plt.hlines(y=0,xmin = 0, xmax=80, color =\"red\", linestyles = \"dashed\")\n",
    "plt.ylabel(\"Residual\")\n",
    "plt.xlabel(\"Prediction\")\n",
    "plt.title(\"Residual Plot\")\n",
    "plt.show()"
   ]
  },
  {
   "cell_type": "markdown",
   "id": "surprised-potato",
   "metadata": {},
   "source": [
    "# Trafik Tahmini"
   ]
  },
  {
   "cell_type": "markdown",
   "id": "identical-defeat",
   "metadata": {},
   "source": [
    "Belli bilgiler girildiğinde trafiğin tahmin edilmesi için bir fonksiyon."
   ]
  },
  {
   "cell_type": "code",
   "execution_count": null,
   "id": "closing-coalition",
   "metadata": {},
   "outputs": [],
   "source": [
    "def predictEffect(date, hour, vSegID, maintenance, rain = 0.0):\n",
    "    # check holiday\n",
    "    if date in holiday_dates:\n",
    "        holiday = 1\n",
    "    else:\n",
    "        holiday = 0\n",
    "\n",
    "    date = pd.to_datetime(date) \n",
    "    \n",
    "    # mark covid data\n",
    "    if date >= pd.to_datetime('2019-03-16'):\n",
    "        covid = 1\n",
    "    else:\n",
    "        covid = 0\n",
    "        \n",
    "    weekday = date.day_name() # find corresponding weekday\n",
    "    edge = str(segment_dict[vSegID]) # find edge name corresponding to segment id\n",
    "    month = date.month_name()[:3] # month number to month name abbreviation\n",
    "\n",
    "    no_maintenance = pd.DataFrame(0, index=[0], columns= list(X.columns)) # create a row filled with 0's\n",
    "    \n",
    "    # insert the data of the query.\n",
    "    no_maintenance['resmi_tatil'] = no_maintenance['resmi_tatil'].replace([0],resmi_tatil)\n",
    "    no_maintenance['covid'] = no_maintenance['covid'].replace([0],covid)\n",
    "    no_maintenance[hour] = no_maintenance[hour].replace([0],1)\n",
    "    no_maintenance[weekday] = no_maintenance[weekday].replace([0],1)\n",
    "    no_maintenance[edge] = no_maintenance[edge].replace([0],1)\n",
    "    no_maintenance[month] = no_maintenance[month].replace([0],1)\n",
    "    no_maintenance['rain'] = no_maintenance['rain'].replace([0],rain)\n",
    "    \n",
    "    with_maintenance= no_maintenance.copy()  # copy the no maintenance version.\n",
    "    with_maintenance[maintenance] = with_maintenance[maintenance].replace([0],1) # add maintenance.\n",
    "    \n",
    "    # predict with decision tree regressor defaultly.\n",
    "    no_maintenance_prediction = dtRegressor.predict(no_maintenance)\n",
    "    with_maintenance_prediction = dtRegressor.predict(with_maintenance)\n",
    "    \n",
    "    # if decision tree regressor does not make a distinction for maintenance, predict with ridge regressor\n",
    "    if(with_maintenance_prediction == no_maintenance_prediction):\n",
    "        no_maintenance_prediction = ridgeModel.predict(no_maintenance)\n",
    "        with_maintenance_prediction = ridgeModel.predict(with_maintenance)\n",
    "    print(\"Predicted average speed when there is no maintenance: \", no_maintenance_prediction)\n",
    "    print(\"Predicted average speed when there is maintenance: \", with_maintenance_prediction)"
   ]
  },
  {
   "cell_type": "code",
   "execution_count": null,
   "id": "continent-memphis",
   "metadata": {},
   "outputs": [],
   "source": [
    "# predictEffect('2019-02-16', '6', vSegID=548, maintenance=\"UTK\", rain=10) # an example prediction."
   ]
  }
 ],
 "metadata": {
  "kernelspec": {
   "display_name": "Python 3",
   "language": "python",
   "name": "python3"
  },
  "language_info": {
   "codemirror_mode": {
    "name": "ipython",
    "version": 3
   },
   "file_extension": ".py",
   "mimetype": "text/x-python",
   "name": "python",
   "nbconvert_exporter": "python",
   "pygments_lexer": "ipython3",
   "version": "3.8.5"
  }
 },
 "nbformat": 4,
 "nbformat_minor": 5
}
